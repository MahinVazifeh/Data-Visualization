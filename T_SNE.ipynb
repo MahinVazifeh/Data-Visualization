{
  "nbformat": 4,
  "nbformat_minor": 0,
  "metadata": {
    "colab": {
      "name": "T_SNE.ipynb",
      "provenance": [],
      "collapsed_sections": []
    },
    "kernelspec": {
      "name": "python3",
      "display_name": "Python 3"
    }
  },
  "cells": [
    {
      "cell_type": "code",
      "metadata": {
        "id": "uKaj13WtMiH9"
      },
      "source": [
        "# Import necessary libraries\n",
        "import numpy as np\n",
        "from sklearn.datasets import load_digits\n",
        "from scipy.spatial.distance import pdist\n",
        "from sklearn.manifold.t_sne import _joint_probabilities\n",
        "from scipy import linalg\n",
        "from sklearn.metrics import pairwise_distances\n",
        "from scipy.spatial.distance import squareform\n",
        "from sklearn.manifold import TSNE\n",
        "from matplotlib import pyplot as plt\n",
        "import seaborn as sns\n",
        "sns.set(rc={'figure.figsize':(11.7,8.27)})\n",
        "palette = sns.color_palette(\"bright\", 10)"
      ],
      "execution_count": null,
      "outputs": []
    },
    {
      "cell_type": "code",
      "metadata": {
        "id": "2uc3rfpLPQvm"
      },
      "source": [
        "# Read Dataset\n",
        "Data, Target = load_digits(return_X_y=True)"
      ],
      "execution_count": null,
      "outputs": []
    },
    {
      "cell_type": "code",
      "metadata": {
        "id": "zNTfFJJDPutd"
      },
      "source": [
        "MACHINE_EPSILON = np.finfo(np.double).eps\n",
        "n_components = 2\n",
        "perplexity = 30"
      ],
      "execution_count": null,
      "outputs": []
    },
    {
      "cell_type": "code",
      "metadata": {
        "id": "N2GwAJSxRGZT"
      },
      "source": [
        "def fit(Data):\n",
        "  n_samples = Data.shape[0]\n",
        "  # Compute euclidean distance\n",
        "  distances = pairwise_distances(Data, metric='euclidean', squared=True)\n",
        "  # Compute joint probabilities p_ij from distances.??????\n",
        "  P = _joint_probabilities(distances=distances, desired_perplexity=perplexity, verbose=False)\n",
        "  # The embedding is initialized with iid samples from Gaussians with standard deviation 1e-4.\n",
        "  Data_embedded = 1e-4 * np.random.mtrand._rand.randn(n_samples, n_components).astype(np.float32)\n",
        "  # degrees_of_freedom = n_components - 1 comes from\n",
        "  # \"Learning a Parametric Embedding by Preserving Local Structure\"\n",
        "  # Laurens van der Maaten, 2009.\n",
        "  degrees_of_freedom = max(n_components - 1, 1)\n",
        "  return _tsne(P, degrees_of_freedom, n_samples, Data_embedded=Data_embedded)\n",
        "def _tsne(P, degrees_of_freedom, n_samples, X_embedded):\n",
        "  params = Data_embedded.ravel()\n",
        "  obj_func = _kl_divergence\n",
        "  params = _gradient_descent(obj_func, params, [P, degrees_of_freedom, n_samples, n_components])\n",
        "  Data_embedded = params.reshape(n_samples, n_components)\n",
        "  return Data_embedded"
      ],
      "execution_count": null,
      "outputs": []
    },
    {
      "cell_type": "code",
      "metadata": {
        "id": "Dos_AxDNWlvJ"
      },
      "source": [
        "tsne = TSNE()\n",
        "Data_embedded = tsne.fit_transform(Data)"
      ],
      "execution_count": null,
      "outputs": []
    },
    {
      "cell_type": "code",
      "metadata": {
        "id": "MUlcma-hW3-C"
      },
      "source": [
        "sns.scatterplot(Data_embedded[:,0], Data_embedded[:,1], hue=Target, legend='full', palette=palette)"
      ],
      "execution_count": null,
      "outputs": []
    }
  ]
}