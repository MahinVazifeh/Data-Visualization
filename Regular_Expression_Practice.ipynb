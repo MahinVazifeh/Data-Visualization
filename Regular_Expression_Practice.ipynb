{
  "nbformat": 4,
  "nbformat_minor": 0,
  "metadata": {
    "colab": {
      "name": "Regular_Expression_Practice.ipynb",
      "provenance": [],
      "collapsed_sections": []
    },
    "kernelspec": {
      "name": "python3",
      "display_name": "Python 3"
    },
    "language_info": {
      "name": "python"
    }
  },
  "cells": [
    {
      "cell_type": "code",
      "execution_count": null,
      "metadata": {
        "id": "Qtk0Wa05IGxX"
      },
      "outputs": [],
      "source": [
        "import re"
      ]
    },
    {
      "cell_type": "code",
      "source": [
        "# 1) [‘Hello’,’my’,’name’,’is’,’Mohsen’]\n",
        "text = 'Hello, my name is Mohsen'\n",
        "pattern = '\\w+'\n",
        "re.findall(pattern, text)"
      ],
      "metadata": {
        "colab": {
          "base_uri": "https://localhost:8080/"
        },
        "id": "n4F8TAMpIdIw",
        "outputId": "828e8c28-c395-46ac-db26-bd6a4884e7d0"
      },
      "execution_count": null,
      "outputs": [
        {
          "output_type": "execute_result",
          "data": {
            "text/plain": [
              "['Hello', 'my', 'name', 'is', 'Mohsen']"
            ]
          },
          "metadata": {},
          "execution_count": 2
        }
      ]
    },
    {
      "cell_type": "code",
      "source": [
        "# 2) 'abc123xyz     define \"123\"      var g = 123'\n",
        "text = 'abc123xyz     define \"123\"      var g = 123'\n",
        "pattern = '\\w+|\\w+\\s\\D\\w+|\\w+\\s\\w\\W+\\d+'\n",
        "pattern1 = '\\w+|\\w+\\s\\D+'\n",
        "re.findall(pattern1, text)"
      ],
      "metadata": {
        "id": "WaAfKs_GI1EU"
      },
      "execution_count": null,
      "outputs": []
    },
    {
      "cell_type": "code",
      "source": [
        "text = 'cat. 896. ?=+. abc1'\n",
        "pattern = '[a-z0-9]+'\n",
        "re.findall(pattern,text)"
      ],
      "metadata": {
        "id": "fuEdwPjkKCla",
        "colab": {
          "base_uri": "https://localhost:8080/"
        },
        "outputId": "d4989eac-dfa4-4210-872e-c5516a960d8b"
      },
      "execution_count": null,
      "outputs": [
        {
          "output_type": "execute_result",
          "data": {
            "text/plain": [
              "['cat', '896', 'abc1']"
            ]
          },
          "metadata": {},
          "execution_count": 25
        }
      ]
    },
    {
      "cell_type": "code",
      "source": [
        "# 4) Can man fan dan ran pan\n",
        "text = 'Can man fan dan ran pan'\n",
        "pattern = '\\wan\\b'\n",
        "re.findall(pattern,text)"
      ],
      "metadata": {
        "colab": {
          "base_uri": "https://localhost:8080/"
        },
        "id": "nBLu83agUBtd",
        "outputId": "9e92607b-6c80-4b8b-cd7e-bd10c8281631"
      },
      "execution_count": null,
      "outputs": [
        {
          "output_type": "execute_result",
          "data": {
            "text/plain": [
              "[]"
            ]
          },
          "metadata": {},
          "execution_count": 34
        }
      ]
    },
    {
      "cell_type": "code",
      "source": [
        "# 5) Hog dog bog\n",
        "text = 'Hog dog bog'\n",
        "pattern = '^\\wog\\b|\\wog\\b|\\wog\\b$'\n",
        "re.findall(pattern,text)"
      ],
      "metadata": {
        "colab": {
          "base_uri": "https://localhost:8080/"
        },
        "id": "EnNxUQnHVab_",
        "outputId": "938643d2-18f0-43d4-b7db-33328ca14f9c"
      },
      "execution_count": null,
      "outputs": [
        {
          "output_type": "execute_result",
          "data": {
            "text/plain": [
              "[]"
            ]
          },
          "metadata": {},
          "execution_count": 40
        }
      ]
    },
    {
      "cell_type": "code",
      "source": [
        "# 6) Ana Bob Cpc aax bby ccz\n",
        "text = 'Ana Bob Cpc aax bby ccz'\n",
        "pattern = '[A-Z][a-z]+'\n",
        "re.findall(pattern,text)"
      ],
      "metadata": {
        "colab": {
          "base_uri": "https://localhost:8080/"
        },
        "id": "Bwx9Wgd3ZIj6",
        "outputId": "fcf1e8c1-3adb-4f4e-c30b-76f36a8b26cf"
      },
      "execution_count": null,
      "outputs": [
        {
          "output_type": "execute_result",
          "data": {
            "text/plain": [
              "['Ana', 'Bob', 'Cpc']"
            ]
          },
          "metadata": {},
          "execution_count": 41
        }
      ]
    },
    {
      "cell_type": "code",
      "source": [
        "# 7) wazzzzzup wazzzup wazup\n",
        "text = 'wazzzzzup wazzzup wazup'\n",
        "pattern = '[a-z]+'\n",
        "re.findall(pattern,text)"
      ],
      "metadata": {
        "colab": {
          "base_uri": "https://localhost:8080/"
        },
        "id": "a3zuaavnfYKB",
        "outputId": "df150fb0-30e5-4c96-dd55-04ca5cb31e80"
      },
      "execution_count": null,
      "outputs": [
        {
          "output_type": "execute_result",
          "data": {
            "text/plain": [
              "['wazzzzzup', 'wazzzup', 'wazup']"
            ]
          },
          "metadata": {},
          "execution_count": 46
        }
      ]
    },
    {
      "cell_type": "code",
      "source": [
        "# 8) aaaabcc aabbbbc aacc a\n",
        "text = 'aaaabcc aabbbbc aacc a'\n",
        "pattern = '[a-z]+'\n",
        "re.findall(pattern,text)"
      ],
      "metadata": {
        "id": "lYhuFZlGfmUx"
      },
      "execution_count": null,
      "outputs": []
    },
    {
      "cell_type": "code",
      "source": [
        "# 9) 1 file found? 2 files found? 24 files found? No files found.\n",
        "text = '1 file found? 2 files found? 24 files found? No files found.'\n",
        "pattern = '[1-9]+\\s\\w+\\s\\w+\\W'\n",
        "re.findall(pattern, text)"
      ],
      "metadata": {
        "id": "49-saa5Bgdww",
        "colab": {
          "base_uri": "https://localhost:8080/"
        },
        "outputId": "60c6d78e-234a-4533-9cae-55c7e156ece7"
      },
      "execution_count": null,
      "outputs": [
        {
          "output_type": "execute_result",
          "data": {
            "text/plain": [
              "['1 file found?', '2 files found?', '24 files found?']"
            ]
          },
          "metadata": {},
          "execution_count": 58
        }
      ]
    },
    {
      "cell_type": "code",
      "source": [
        "# 10) 1 file found? 2 files found? 24 files found? No files found.\n",
        "text = '1.  abc 2.   abc 3.    abc 4.abc'\n",
        "pattern = '[1-9].\\s+[abc]+'\n",
        "re.findall(pattern, text)"
      ],
      "metadata": {
        "id": "rlX0GfGKwoqJ"
      },
      "execution_count": null,
      "outputs": []
    },
    {
      "cell_type": "code",
      "source": [
        "# 11) Mission: successful   Last Mission: unsuccessful   Next Mission: successful upon capture of target\n",
        "text = 'Mission:successful   Last Mission: unsuccessful   Next Mission: successful upon capture of target'\n",
        "pattern = '^[a-zA-Z]+\\W+[a-z]+'\n",
        "re.findall(pattern, text)"
      ],
      "metadata": {
        "id": "X3Pf_jPex4RO"
      },
      "execution_count": null,
      "outputs": []
    },
    {
      "cell_type": "code",
      "source": [
        "# 12) file_record_transcript.pdf   file_07241999.pdf   testfile_fake.pdf.tmp\n",
        "text = 'file_record_transcript.pdf   file_07241999.pdf   testfile_fake.pdf.tmp'\n",
        "pattern = '\\w+.pdf\\s'\n",
        "re.findall(pattern, text)"
      ],
      "metadata": {
        "id": "YCRw8d3kyopL",
        "colab": {
          "base_uri": "https://localhost:8080/"
        },
        "outputId": "ec1c7088-4811-4006-b51e-25dbbc958cd2"
      },
      "execution_count": null,
      "outputs": [
        {
          "output_type": "execute_result",
          "data": {
            "text/plain": [
              "['file_record_transcript.pdf ', 'file_07241999.pdf ']"
            ]
          },
          "metadata": {},
          "execution_count": 11
        }
      ]
    },
    {
      "cell_type": "code",
      "source": [
        "# 13) Jan 1987 May 1969 Aug 2011 2020 1399\n",
        "text = 'Jan 1987  May 1969  Aug 2011  2020  1399'\n",
        "pattern = '[a-zA-Z]{3}\\s[0-9]{4}|[0-9]{4}'\n",
        "re.findall(pattern, text)"
      ],
      "metadata": {
        "colab": {
          "base_uri": "https://localhost:8080/"
        },
        "id": "3cSk8UHZPkAO",
        "outputId": "f383d3fa-7749-406f-fca8-d1a3d91e770b"
      },
      "execution_count": null,
      "outputs": [
        {
          "output_type": "execute_result",
          "data": {
            "text/plain": [
              "['Jan 1987', 'May 1969', 'Aug 2011', '2020', '1399']"
            ]
          },
          "metadata": {},
          "execution_count": 12
        }
      ]
    },
    {
      "cell_type": "code",
      "source": [
        "# 14) 1280x720  1920x1600   1024x768\n",
        "text = '1280x720  1920x1600   1024x768'\n",
        "pattern = '[0-9]{4}x[0-9]+'\n",
        "re.findall(pattern, text)"
      ],
      "metadata": {
        "colab": {
          "base_uri": "https://localhost:8080/"
        },
        "id": "AawMVbZIR3zh",
        "outputId": "a4317737-fc88-4a2a-a031-89a07b5b31b8"
      },
      "execution_count": null,
      "outputs": [
        {
          "output_type": "execute_result",
          "data": {
            "text/plain": [
              "['1280x720', '1920x1600', '1024x768']"
            ]
          },
          "metadata": {},
          "execution_count": 13
        }
      ]
    },
    {
      "cell_type": "code",
      "source": [
        "# 15) I love cats I love dogs I love logs I love cogs\n",
        "text = 'I love cats I love dogs I love logs I love cogs'\n",
        "pattern = '\\w\\s\\w+\\s\\w+'\n",
        "re.findall(pattern, text)"
      ],
      "metadata": {
        "id": "oBQtEY83Sbcc"
      },
      "execution_count": null,
      "outputs": []
    },
    {
      "cell_type": "code",
      "source": [
        "# 16) Some_Email@something.com   AnotherEmail123@AWebsite.ir   Another123Email@folan.net\n",
        "text = 'Some_Email@something.com   AnotherEmail123@AWebsite.ir   Another123Email@folan.net'\n",
        "pattern = '\\w+@\\w+.[com]+|\\w+@\\w+.[ir]+'\n",
        "re.findall(pattern, text)"
      ],
      "metadata": {
        "colab": {
          "base_uri": "https://localhost:8080/"
        },
        "id": "8i2KhcuBT6YI",
        "outputId": "193e74ee-36ab-43a8-9755-1ebae53c7ba8"
      },
      "execution_count": null,
      "outputs": [
        {
          "output_type": "execute_result",
          "data": {
            "text/plain": [
              "['Some_Email@something.com', 'AnotherEmail123@AWebsite.ir']"
            ]
          },
          "metadata": {},
          "execution_count": 18
        }
      ]
    },
    {
      "cell_type": "code",
      "source": [
        "# 17) 10003  10300  405060  6055043023  3400  1023453032\n",
        "text = '10003  10300  405060  6055043023  3400  1023453032'\n",
        "pattern = '\\d+'\n",
        "re.findall(pattern, text)"
      ],
      "metadata": {
        "colab": {
          "base_uri": "https://localhost:8080/"
        },
        "id": "mwPpRpevUxi6",
        "outputId": "a849ddce-1f89-4e10-db50-e1935822c005"
      },
      "execution_count": null,
      "outputs": [
        {
          "output_type": "execute_result",
          "data": {
            "text/plain": [
              "['10003', '10300', '405060', '6055043023', '3400', '1023453032']"
            ]
          },
          "metadata": {},
          "execution_count": 21
        }
      ]
    },
    {
      "cell_type": "code",
      "source": [
        "# 18) http://foo.com  http://goo.gl  https://foo.com  https://www.foo.com  https://www.foo.com/  https://www.foo.com/bar\n",
        "text = 'http://foo.com  http://goo.gl  https://foo.com  https://www.foo.com  https://www.foo.com/  https://www.foo.com/bar'\n",
        "pattern = '[https]+\\W+\\w+.\\w+.[com]+.\\w+|[https]+\\W+\\w+.[gl]+'\n",
        "re.findall(pattern, text)"
      ],
      "metadata": {
        "colab": {
          "base_uri": "https://localhost:8080/"
        },
        "id": "t8EOrGMgWh7d",
        "outputId": "65c50d4a-55fd-40b6-a5b6-809bc63c6c7e"
      },
      "execution_count": null,
      "outputs": [
        {
          "output_type": "execute_result",
          "data": {
            "text/plain": [
              "['http://foo.com',\n",
              " 'http://goo.gl',\n",
              " 'https://foo.com',\n",
              " 'https://www.foo.com',\n",
              " 'https://www.foo.com',\n",
              " 'https://www.foo.com/bar']"
            ]
          },
          "metadata": {},
          "execution_count": 40
        }
      ]
    },
    {
      "cell_type": "code",
      "source": [],
      "metadata": {
        "id": "2asUfOwvdyRw"
      },
      "execution_count": null,
      "outputs": []
    }
  ]
}