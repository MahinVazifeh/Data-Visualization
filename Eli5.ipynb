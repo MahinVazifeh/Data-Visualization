{
  "nbformat": 4,
  "nbformat_minor": 0,
  "metadata": {
    "colab": {
      "name": "Eli5.ipynb",
      "provenance": [],
      "collapsed_sections": []
    },
    "kernelspec": {
      "name": "python3",
      "display_name": "Python 3"
    },
    "language_info": {
      "name": "python"
    }
  },
  "cells": [
    {
      "cell_type": "code",
      "execution_count": null,
      "metadata": {
        "id": "Gt7QvJCroEGa"
      },
      "outputs": [],
      "source": [
        "import eli5\n",
        "import numpy as np\n",
        "import pandas as pd\n",
        "from sklearn.model_selection import KFold\n",
        "from sklearn.linear_model import RidgeClassifier\n",
        "from sklearn.pipeline import FeatureUnion\n",
        "from sklearn.feature_extraction.text import CountVectorizer, TfidfVectorizer\n",
        "from sklearn.metrics import mean_squared_log_error"
      ]
    },
    {
      "cell_type": "code",
      "source": [
        "train = pd.read_table('/content/drive/MyDrive/Private/Kaggle Practice/Dataset/train.tsv')\n",
        "train.head()"
      ],
      "metadata": {
        "id": "ynX9oO-taFcJ"
      },
      "execution_count": null,
      "outputs": []
    },
    {
      "cell_type": "code",
      "source": [
        "train.info()"
      ],
      "metadata": {
        "id": "w8GFUGNpn68g"
      },
      "execution_count": null,
      "outputs": []
    },
    {
      "cell_type": "code",
      "source": [
        "y_train = train['price']\n",
        "y_train = np.log1p(y_train)"
      ],
      "metadata": {
        "id": "2bFD30Dilrba"
      },
      "execution_count": null,
      "outputs": []
    },
    {
      "cell_type": "code",
      "source": [
        "train['category_name'] = train['category_name'].fillna('other').astype(str)"
      ],
      "metadata": {
        "id": "_UgtyhCPnCT9"
      },
      "execution_count": null,
      "outputs": []
    },
    {
      "cell_type": "code",
      "source": [
        "train['brand_name'] = train['brand_name'].fillna('missing').astype(str)\n",
        "train['shipping'] = train['shipping'].astype(str)\n",
        "train['item_condition_id'] = train['item_condition_id'].astype(str)\n",
        "train['item_description'] = train['item_description'].fillna('None')"
      ],
      "metadata": {
        "id": "Y87AMYUdl9KB"
      },
      "execution_count": null,
      "outputs": []
    },
    {
      "cell_type": "code",
      "source": [
        "from nltk.stem import PorterStemmer\n",
        "from nltk.tokenize import word_tokenize\n",
        " \n",
        "ps = PorterStemmer()\n",
        " \n",
        "# choose some words to be stemmed\n",
        "words = [\"program\", \"programs\", \"programmer\", \"programming\", \"programmers\"]\n",
        " \n",
        "for w in words:\n",
        "    print(w, \" : \", ps.stem(w))"
      ],
      "metadata": {
        "colab": {
          "base_uri": "https://localhost:8080/"
        },
        "id": "qX38MZX9qBKp",
        "outputId": "ba3e4703-0ceb-4b3a-b045-da2714efc2db"
      },
      "execution_count": null,
      "outputs": [
        {
          "output_type": "stream",
          "name": "stdout",
          "text": [
            "program  :  program\n",
            "programs  :  program\n",
            "programmer  :  programm\n",
            "programming  :  program\n",
            "programmers  :  programm\n"
          ]
        }
      ]
    },
    {
      "cell_type": "code",
      "source": [
        "pip install nltk"
      ],
      "metadata": {
        "id": "1XPYmP-0l3o-"
      },
      "execution_count": null,
      "outputs": []
    },
    {
      "cell_type": "code",
      "source": [
        "text = \"\"\"The voice that navigated was definitely that of a machine, and yet you could tell that the machine was a woman, which hurt my mind a little. How can machines have genders? The machine also had an American accent. How can machines have nationalities? This can't be a good idea, making machines talk like real people, can it? Giving machines humanoid identities?\"\"\""
      ],
      "metadata": {
        "id": "fibjkOLKavrb"
      },
      "execution_count": null,
      "outputs": []
    },
    {
      "cell_type": "code",
      "source": [
        "from nltk.tokenize import word_tokenize\n",
        "tokenized_word = word_tokenize(text)\n",
        "print(tokenized_word)"
      ],
      "metadata": {
        "colab": {
          "base_uri": "https://localhost:8080/"
        },
        "id": "7TEEPsODlLhM",
        "outputId": "4f171586-f044-4902-fa58-f439be2655ac"
      },
      "execution_count": null,
      "outputs": [
        {
          "output_type": "stream",
          "name": "stdout",
          "text": [
            "['The', 'voice', 'that', 'navigated', 'was', 'definitely', 'that', 'of', 'a', 'machine', ',', 'and', 'yet', 'you', 'could', 'tell', 'that', 'the', 'machine', 'was', 'a', 'woman', ',', 'which', 'hurt', 'my', 'mind', 'a', 'little', '.', 'How', 'can', 'machines', 'have', 'genders', '?', 'The', 'machine', 'also', 'had', 'an', 'American', 'accent', '.', 'How', 'can', 'machines', 'have', 'nationalities', '?', 'This', 'ca', \"n't\", 'be', 'a', 'good', 'idea', ',', 'making', 'machines', 'talk', 'like', 'real', 'people', ',', 'can', 'it', '?', 'Giving', 'machines', 'humanoid', 'identities', '?']\n"
          ]
        }
      ]
    },
    {
      "cell_type": "code",
      "source": [
        "import nltk\n",
        "nltk.download('punkt')"
      ],
      "metadata": {
        "id": "XcfsKMJtlp_R",
        "colab": {
          "base_uri": "https://localhost:8080/"
        },
        "outputId": "a54f9901-41ed-40db-bcdf-cb85f36b5d2f"
      },
      "execution_count": null,
      "outputs": [
        {
          "output_type": "stream",
          "name": "stderr",
          "text": [
            "[nltk_data] Downloading package punkt to /root/nltk_data...\n",
            "[nltk_data]   Unzipping tokenizers/punkt.zip.\n"
          ]
        },
        {
          "output_type": "execute_result",
          "data": {
            "text/plain": [
              "True"
            ]
          },
          "metadata": {},
          "execution_count": 14
        }
      ]
    },
    {
      "cell_type": "code",
      "source": [
        "from nltk.probability import FreqDist\n",
        "freq_dist_word = FreqDist(tokenized_word)\n",
        "print(freq_dist_word.most_common(5))"
      ],
      "metadata": {
        "colab": {
          "base_uri": "https://localhost:8080/"
        },
        "id": "jeoG7TWfp-_1",
        "outputId": "1bf292b9-1596-444c-ace9-ff7de28604f6"
      },
      "execution_count": null,
      "outputs": [
        {
          "output_type": "stream",
          "name": "stdout",
          "text": [
            "[('a', 4), (',', 4), ('machines', 4), ('?', 4), ('that', 3)]\n"
          ]
        }
      ]
    },
    {
      "cell_type": "code",
      "source": [
        "\n",
        "import matplotlib.pyplot as plt\n",
        "freq_dist_word.plot(30,cumulative=False)\n",
        "plt.show()"
      ],
      "metadata": {
        "colab": {
          "base_uri": "https://localhost:8080/",
          "height": 319
        },
        "id": "Phf8e3Gkq-JX",
        "outputId": "72d1a841-a81b-4efa-9ad4-5eff15fb4f1d"
      },
      "execution_count": null,
      "outputs": [
        {
          "output_type": "display_data",
          "data": {
            "text/plain": [
              "<Figure size 432x288 with 1 Axes>"
            ],
            "image/png": "[encoded data removed]"
          },
          "metadata": {
            "needs_background": "light"
          }
        }
      ]
    },
    {
      "cell_type": "code",
      "source": [
        "#Filtering Stop List\n",
        "import nltk\n",
        "nltk.download('stopwords')\n",
        "from nltk.corpus import stopwords\n",
        "stopword_list = set(stopwords.words(\"english\"))\n",
        "print(stopword_list)"
      ],
      "metadata": {
        "id": "4kolKjlTsep3",
        "colab": {
          "base_uri": "https://localhost:8080/"
        },
        "outputId": "29ee8e00-47cb-41d2-a354-2ee95786d32d"
      },
      "execution_count": null,
      "outputs": [
        {
          "output_type": "stream",
          "name": "stdout",
          "text": [
            "{'having', \"won't\", 'it', 'out', 'ain', \"wouldn't\", 'are', 'further', 'here', 'each', 'i', 'not', 'to', 'they', 'themselves', \"she's\", 'mightn', 'yourself', 'be', 'any', 'herself', 'these', 't', \"shouldn't\", 'needn', 's', 'our', 'were', 'from', 'all', \"didn't\", 'over', \"hasn't\", 'before', \"doesn't\", 'am', \"it's\", 'this', 'doesn', 'ma', 'hadn', 'don', 'ourselves', 'had', 'for', 'most', 'too', 'above', 'and', 'whom', 'why', 'into', 'there', 'isn', 'because', \"mustn't\", 'hers', 'should', 'theirs', 'those', 'during', 'how', 'won', 'on', 'shouldn', 'than', \"isn't\", 'mustn', \"shan't\", 'has', 'was', 'have', 'm', 'myself', 'other', 'no', 'nor', 'up', \"needn't\", 'himself', 'just', 'about', 'down', 'below', 'very', 'been', \"haven't\", 'again', 'until', 'haven', 'where', 'd', \"you're\", 'with', 've', 'yourselves', 'what', 'her', \"mightn't\", 'shan', 'couldn', \"aren't\", 'the', 'my', 'its', 'wasn', 'itself', 'then', 'few', 'their', 'when', 'more', 'y', 'own', 'that', 'of', 'being', 'ours', \"that'll\", 'now', 'his', 'doing', 'who', 'but', \"don't\", 'off', \"hadn't\", 'o', 'wouldn', 'we', 'll', 'him', \"wasn't\", 'weren', 'while', 'your', 'only', 'by', 'is', 'he', 'an', 'will', 'aren', \"weren't\", 'them', 'if', 'both', 'a', 'you', 'so', 'she', 'does', 'same', 'in', 'at', 'against', 'yours', 'between', 'after', \"couldn't\", 'hasn', \"should've\", 'under', \"you've\", \"you'd\", 'do', 'such', 'me', 'some', 'did', 'once', 'which', 're', \"you'll\", 'or', 'didn', 'as', 'through', 'can'}\n"
          ]
        },
        {
          "output_type": "stream",
          "name": "stderr",
          "text": [
            "[nltk_data] Downloading package stopwords to /root/nltk_data...\n",
            "[nltk_data]   Package stopwords is already up-to-date!\n"
          ]
        }
      ]
    },
    {
      "cell_type": "code",
      "source": [
        "# Removing Stop words from a text\n",
        "from nltk.tokenize import word_tokenize\n",
        "text = 'Learn to lose your destiny to find where it leads you'\n",
        "word_tokenized = word_tokenize(text)\n",
        "filtered_text = []\n",
        "for word in word_tokenized:\n",
        "  if word not in stopword_list:\n",
        "    filtered_text.append(word)\n",
        "\n",
        "print(filtered_text)"
      ],
      "metadata": {
        "colab": {
          "base_uri": "https://localhost:8080/"
        },
        "id": "hQ7KdV8PQOCV",
        "outputId": "67adc5ac-6257-434a-8cb9-0441a4ac7080"
      },
      "execution_count": null,
      "outputs": [
        {
          "output_type": "stream",
          "name": "stdout",
          "text": [
            "['Learn', 'lose', 'destiny', 'find', 'leads']\n"
          ]
        }
      ]
    },
    {
      "cell_type": "code",
      "source": [
        "print('Tokenized list without stopwords:{}'.format(word_tokenized))\n",
        "print('Tokenized list with stopwords:{}'.format(filtered_text))"
      ],
      "metadata": {
        "colab": {
          "base_uri": "https://localhost:8080/"
        },
        "id": "yDC-ds2_TQ7w",
        "outputId": "329a4a7b-0599-472b-ec54-958fc6a1c106"
      },
      "execution_count": null,
      "outputs": [
        {
          "output_type": "stream",
          "name": "stdout",
          "text": [
            "Tokenized list without stopwords:['Learn', 'to', 'lose', 'your', 'destiny', 'to', 'find', 'where', 'it', 'leads', 'you']\n",
            "Tokenized list with stopwords:['Learn', 'lose', 'destiny', 'find', 'leads']\n"
          ]
        }
      ]
    },
    {
      "cell_type": "code",
      "source": [
        "from nltk.stem import PorterStemmer\n",
        "ps = PorterStemmer()\n",
        "for word in filtered_text:\n",
        "    print(word, \" : \", ps.stem(word))"
      ],
      "metadata": {
        "colab": {
          "base_uri": "https://localhost:8080/"
        },
        "id": "PpdZ8VbuUKoa",
        "outputId": "adf97999-1aea-4ac8-a5c0-e29abde3636f"
      },
      "execution_count": null,
      "outputs": [
        {
          "output_type": "stream",
          "name": "stdout",
          "text": [
            "Learn  :  learn\n",
            "lose  :  lose\n",
            "destiny  :  destini\n",
            "find  :  find\n",
            "leads  :  lead\n"
          ]
        }
      ]
    },
    {
      "cell_type": "code",
      "source": [
        "sample = ['happy', 'happier', 'happiest', 'fairly']\n",
        "from nltk.stem import PorterStemmer\n",
        "ps = PorterStemmer()\n",
        "for word in sample:\n",
        "  print(word + '---->' + ps.stem(word))"
      ],
      "metadata": {
        "colab": {
          "base_uri": "https://localhost:8080/"
        },
        "id": "iamAJQT0Uvr1",
        "outputId": "3cb917f2-414b-4318-b04a-fa58be077b21"
      },
      "execution_count": null,
      "outputs": [
        {
          "output_type": "stream",
          "name": "stdout",
          "text": [
            "happy---->happi\n",
            "happier---->happier\n",
            "happiest---->happiest\n",
            "fairly---->fairli\n"
          ]
        }
      ]
    },
    {
      "cell_type": "code",
      "source": [
        "from nltk.stem.snowball import SnowballStemmer\n",
        "snow_stem = SnowballStemmer(language = 'english')\n",
        "for word in sample:\n",
        "  print(word + '--->' + snow_stem.stem(word))"
      ],
      "metadata": {
        "colab": {
          "base_uri": "https://localhost:8080/"
        },
        "id": "WxAVkh-dcFUt",
        "outputId": "a4abad92-c44b-4c63-8bde-c67c734d5c4e"
      },
      "execution_count": null,
      "outputs": [
        {
          "output_type": "stream",
          "name": "stdout",
          "text": [
            "happy--->happi\n",
            "happier--->happier\n",
            "happiest--->happiest\n",
            "fairly--->fair\n"
          ]
        }
      ]
    },
    {
      "cell_type": "code",
      "source": [
        "from nltk.stem.wordnet import WordNetLemmatizer\n",
        "lemmatizer = WordNetLemmatizer()\n",
        "for word in sample:\n",
        "  print(word + '--->' + lemmatizer.lemmatize(word))"
      ],
      "metadata": {
        "colab": {
          "base_uri": "https://localhost:8080/"
        },
        "id": "HRx41SVpeXKq",
        "outputId": "dbd98e1b-cd17-40be-bb65-e2f9b34aeec1"
      },
      "execution_count": null,
      "outputs": [
        {
          "output_type": "stream",
          "name": "stdout",
          "text": [
            "happy--->happy\n",
            "happier--->happier\n",
            "happiest--->happiest\n",
            "fairly--->fairly\n"
          ]
        }
      ]
    },
    {
      "cell_type": "code",
      "source": [
        "import nltk\n",
        "nltk.download('all')"
      ],
      "metadata": {
        "id": "ZUymZDiBgdK3"
      },
      "execution_count": null,
      "outputs": []
    },
    {
      "cell_type": "code",
      "source": [
        "text = \" I'm going to meet MSr. Zahra\"\n",
        "from nltk import pos_tag\n",
        "from nltk.tokenize import word_tokenize\n",
        "word_tokenized = word_tokenize(text)\n",
        "Part_of_Speech = pos_tag(word_tokenized, tagset='universal')\n",
        "print(Part_of_Speech)"
      ],
      "metadata": {
        "colab": {
          "base_uri": "https://localhost:8080/"
        },
        "id": "cGkXhXVHgwb1",
        "outputId": "f7918f9f-6cae-4cfb-a05f-40178e5a6aad"
      },
      "execution_count": null,
      "outputs": [
        {
          "output_type": "stream",
          "name": "stdout",
          "text": [
            "[('I', 'PRON'), (\"'m\", 'VERB'), ('going', 'VERB'), ('to', 'PRT'), ('meet', 'VERB'), ('MSr', 'NOUN'), ('.', '.'), ('Zahra', 'NOUN')]\n"
          ]
        }
      ]
    }
  ]
}