{
  "nbformat": 4,
  "nbformat_minor": 0,
  "metadata": {
    "colab": {
      "name": "Excercise_P2.ipynb",
      "provenance": [],
      "collapsed_sections": []
    },
    "kernelspec": {
      "name": "python3",
      "display_name": "Python 3"
    },
    "language_info": {
      "name": "python"
    }
  },
  "cells": [
    {
      "cell_type": "markdown",
      "source": [
        "### Question 1"
      ],
      "metadata": {
        "id": "_DwboIQPFLR2"
      }
    },
    {
      "cell_type": "code",
      "execution_count": null,
      "metadata": {
        "id": "xQ6bEgra3oBC"
      },
      "outputs": [],
      "source": [
        "import cmath\n",
        "def Quadratic(a,b,c):\n",
        "  D = (b**2) - (4*a*c)\n",
        "  print(D)\n",
        "  x1= (-b + cmath.sqrt(D))/(2*a)\n",
        "  x2= (-b - cmath.sqrt(D))/(2*a)\n",
        "  if D>0:\n",
        "    return x1,x2\n",
        "  elif D==0:\n",
        "    return x1,x2\n",
        "  else:\n",
        "    print('The solution is Complex')\n",
        "\n",
        "Quadratic(2,4,2)"
      ]
    },
    {
      "cell_type": "markdown",
      "source": [
        "### Question 2"
      ],
      "metadata": {
        "id": "A8EgUVy8FWXp"
      }
    },
    {
      "cell_type": "code",
      "source": [
        "def add_matrix(X,Y):\n",
        "  import numpy as np\n",
        "  X = np.array(X)\n",
        "  Y = np.array(Y)\n",
        "  if X.shape != Y.shape:\n",
        "    raise Exception('The matrix sizes have to be equal')\n",
        "  else:\n",
        "    return(X+Y)\n",
        "\n",
        "X = [[12,7,3],[4,5,6],[7,8,9]]\n",
        "Y = [[5,8,1],[6,7,3],[4,5,9]]\n",
        "add_matrix(X,Y)"
      ],
      "metadata": {
        "id": "2ucA5ODzFUw2"
      },
      "execution_count": null,
      "outputs": []
    },
    {
      "cell_type": "markdown",
      "source": [
        "### Question 3"
      ],
      "metadata": {
        "id": "6n1msCSKKeud"
      }
    },
    {
      "cell_type": "code",
      "source": [
        "L1 = [1,2,4,3]\n",
        "L2 = ['a','b','c','d']\n",
        "print(list(zip(L1,L2)))\n",
        "\n",
        "L1.sort()\n",
        "L2.sort()\n",
        "print(list(zip(L1,L2)))"
      ],
      "metadata": {
        "id": "xVeUMyrUGNvZ"
      },
      "execution_count": null,
      "outputs": []
    },
    {
      "cell_type": "markdown",
      "source": [
        "### Question 4"
      ],
      "metadata": {
        "id": "nrMNOkYQK9xa"
      }
    },
    {
      "cell_type": "code",
      "source": [
        "my_vector1 = [1,2,3,4,1,2,-5]\n",
        "my_vector2 = [-1,4,0,-5,-3,-2,-5]\n",
        "result_map = list(map(lambda x,y: x*y,my_vector1,my_vector2))\n",
        "result_filter = list(filter(lambda x: x>0, result_map))\n",
        "print(result_map,result_filter)"
      ],
      "metadata": {
        "id": "0rQ2TesaK9KK"
      },
      "execution_count": null,
      "outputs": []
    },
    {
      "cell_type": "markdown",
      "source": [
        "### Question 5"
      ],
      "metadata": {
        "id": "my36b7L3OVtq"
      }
    },
    {
      "cell_type": "code",
      "source": [
        "numbers = list(range(6))\n",
        "\n",
        "# Task a\n",
        "for i in numbers:\n",
        "  if i==1:\n",
        "    print(-1)\n",
        "  elif i>3:\n",
        "    print(i**2)\n",
        "  else:\n",
        "    print(i)\n",
        "\n",
        "# Task b\n",
        "result = [i**2 if i>3 else -1 if i==1 else i for i in numbers ]\n",
        "print(result)"
      ],
      "metadata": {
        "id": "89inUa8XONUC"
      },
      "execution_count": null,
      "outputs": []
    },
    {
      "cell_type": "markdown",
      "source": [
        "### Question 6"
      ],
      "metadata": {
        "id": "uwrNpGWibSOP"
      }
    },
    {
      "cell_type": "code",
      "source": [
        "from numpy.core.defchararray import isdigit\n",
        "my_csv = ['mary ; 33; austia;  mary-at@email.com ','joe ; 55  ; austia;  joe-at@email.com ']\n",
        "result = [item.split(';') for item in my_csv]\n",
        "first = [int(item.strip()) if item.strip().isdigit() else item.strip() for item in result[0]]\n",
        "second= [int(item.strip()) if item.strip().isdigit() else item.strip() for item in result[1]]\n",
        "result = list(zip(first,second))\n",
        "student = {}\n",
        "keyword = ['Name', 'Age', 'Country','E-Mail']\n",
        "for item in range(len(result)):\n",
        "  student[keyword[item]] = result[item]\n",
        "print(student)"
      ],
      "metadata": {
        "id": "hXyH3_-fYPV3"
      },
      "execution_count": null,
      "outputs": []
    },
    {
      "cell_type": "markdown",
      "source": [
        "### Question 7 which it is said that I just have to use re package"
      ],
      "metadata": {
        "id": "BHDcYLRcimcJ"
      }
    }
  ]
}