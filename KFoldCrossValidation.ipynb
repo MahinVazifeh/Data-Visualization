{
  "cells": [
    {
      "cell_type": "markdown",
      "metadata": {
        "deletable": true,
        "editable": true,
        "id": "bUkVWXFKPt1u"
      },
      "source": [
        "# K-Fold Cross Validation"
      ]
    },
    {
      "cell_type": "raw",
      "metadata": {
        "deletable": true,
        "editable": true,
        "id": "5gCqZ5lGPt13"
      },
      "source": [
        "Let's revisit the Iris data set:"
      ]
    },
    {
      "cell_type": "code",
      "execution_count": null,
      "metadata": {
        "deletable": true,
        "editable": true,
        "id": "YE8SKsydPt14"
      },
      "outputs": [],
      "source": [
        "import numpy as np\n",
        "from sklearn.model_selection import cross_val_score, train_test_split\n",
        "from sklearn import datasets\n",
        "from sklearn import svm\n",
        "\n",
        "iris = datasets.load_iris()\n"
      ]
    },
    {
      "cell_type": "markdown",
      "metadata": {
        "deletable": true,
        "editable": true,
        "id": "3z52CgdfPt17"
      },
      "source": [
        "A single train/test split is made easy with the train_test_split function in the cross_validation library:"
      ]
    },
    {
      "cell_type": "code",
      "execution_count": null,
      "metadata": {
        "deletable": true,
        "editable": true,
        "id": "eLr1EbwFPt17",
        "outputId": "824954f9-31f4-4b02-9cd4-7255533e1a56"
      },
      "outputs": [
        {
          "data": {
            "text/plain": [
              "0.96666666666666667"
            ]
          },
          "execution_count": 2,
          "metadata": {},
          "output_type": "execute_result"
        }
      ],
      "source": [
        "# Split the iris data into train/test data sets with 40% reserved for testing\n",
        "X_train, X_test, y_train, y_test = train_test_split(iris.data, iris.target, test_size=0.4, random_state=0)\n",
        "\n",
        "# Build an SVC model for predicting iris classifications using training data\n",
        "clf = svm.SVC(kernel='linear', C=1).fit(X_train, y_train)\n",
        "\n",
        "# Now measure its performance with the test data\n",
        "clf.score(X_test, y_test)   "
      ]
    },
    {
      "cell_type": "markdown",
      "metadata": {
        "deletable": true,
        "editable": true,
        "id": "y9WqY6fiPt1-"
      },
      "source": [
        "K-Fold cross validation is just as easy; let's use a K of 5:"
      ]
    },
    {
      "cell_type": "code",
      "execution_count": null,
      "metadata": {
        "deletable": true,
        "editable": true,
        "id": "Yv2pEBiyPt1_",
        "outputId": "0416efcf-52d9-4a9f-e6cf-3347943892a4"
      },
      "outputs": [
        {
          "name": "stdout",
          "output_type": "stream",
          "text": [
            "[ 0.96666667  1.          0.96666667  0.96666667  1.        ]\n",
            "0.98\n"
          ]
        }
      ],
      "source": [
        "# We give cross_val_score a model, the entire data set and its \"real\" values, and the number of folds:\n",
        "scores = cross_val_score(clf, iris.data, iris.target, cv=5)\n",
        "\n",
        "# Print the accuracy for each fold:\n",
        "print(scores)\n",
        "\n",
        "# And the mean accuracy of all 5 folds:\n",
        "print(scores.mean())"
      ]
    },
    {
      "cell_type": "markdown",
      "metadata": {
        "deletable": true,
        "editable": true,
        "id": "RzjyjElhPt2B"
      },
      "source": [
        "Our model is even better than we thought! Can we do better? Let's try a different kernel (poly):"
      ]
    },
    {
      "cell_type": "code",
      "execution_count": null,
      "metadata": {
        "deletable": true,
        "editable": true,
        "id": "SEPwlwyzPt2D",
        "outputId": "5fcfab14-d31d-4702-836c-810bee1c1e34"
      },
      "outputs": [
        {
          "name": "stdout",
          "output_type": "stream",
          "text": [
            "[ 1.          1.          0.9         0.93333333  1.        ]\n",
            "0.966666666667\n"
          ]
        }
      ],
      "source": [
        "clf = svm.SVC(kernel='poly', C=1).fit(X_train, y_train)\n",
        "scores = cross_val_score(clf, iris.data, iris.target, cv=5)\n",
        "print(scores)\n",
        "print(scores.mean())"
      ]
    },
    {
      "cell_type": "markdown",
      "metadata": {
        "deletable": true,
        "editable": true,
        "id": "-fkcsItxPt2F"
      },
      "source": [
        "No! The more complex polynomial kernel produced lower accuracy than a simple linear kernel. The polynomial kernel is overfitting. But we couldn't have told that with a single train/test split:"
      ]
    },
    {
      "cell_type": "code",
      "execution_count": null,
      "metadata": {
        "deletable": true,
        "editable": true,
        "id": "4Jl2UG8QPt2F",
        "outputId": "80b495c3-480b-4c05-835c-ce3f98201d97"
      },
      "outputs": [
        {
          "data": {
            "text/plain": [
              "0.96666666666666667"
            ]
          },
          "execution_count": 6,
          "metadata": {},
          "output_type": "execute_result"
        }
      ],
      "source": [
        "# Build an SVC model for predicting iris classifications using training data\n",
        "clf = svm.SVC(kernel='poly', C=1).fit(X_train, y_train)\n",
        "\n",
        "# Now measure its performance with the test data\n",
        "clf.score(X_test, y_test)   "
      ]
    }
  ],
  "metadata": {
    "kernelspec": {
      "display_name": "Python 3",
      "language": "python",
      "name": "python3"
    },
    "language_info": {
      "codemirror_mode": {
        "name": "ipython",
        "version": 3
      },
      "file_extension": ".py",
      "mimetype": "text/x-python",
      "name": "python",
      "nbconvert_exporter": "python",
      "pygments_lexer": "ipython3",
      "version": "3.5.2"
    },
    "colab": {
      "name": "KFoldCrossValidation.ipynb",
      "provenance": [],
      "collapsed_sections": []
    }
  },
  "nbformat": 4,
  "nbformat_minor": 0
}