{
  "cells": [
    {
      "cell_type": "code",
      "execution_count": null,
      "metadata": {
        "id": "sd2iADlYql9G",
        "outputId": "c20c7364-fb7b-4c41-c257-dba3fe8ede9b"
      },
      "outputs": [
        {
          "name": "stdout",
          "output_type": "stream",
          "text": [
            "Mahin Vazifehdan\n",
            "MahinMahinMahin\n",
            "True\n"
          ]
        }
      ],
      "source": [
        "firstname = 'Mahin'\n",
        "lastname = 'Vazifehdan'\n",
        "print (firstname + ' ' + lastname)\n",
        "print(firstname * 3)\n",
        "print('Ma' in firstname)"
      ]
    },
    {
      "cell_type": "code",
      "execution_count": null,
      "metadata": {
        "id": "W3WRHTMRql9H",
        "outputId": "e9371a03-6458-4ddd-bc0a-0d785b4b60e1"
      },
      "outputs": [
        {
          "name": "stdout",
          "output_type": "stream",
          "text": [
            "be Vazifehdan\n"
          ]
        }
      ],
      "source": [
        "firstname = 'I will be a successful data scientist in the Netherlands'.split(' ')[2]\n",
        "lastname = 'This is Mahin Vazifehdan'.split(' ')[-1]\n",
        "print(firstname + ' ' + lastname)"
      ]
    },
    {
      "cell_type": "code",
      "execution_count": null,
      "metadata": {
        "id": "QaKx_80Jql9H",
        "outputId": "fc5d10e9-85cd-4a57-de07-c6ff7f3a74b3"
      },
      "outputs": [
        {
          "data": {
            "text/plain": [
              "'09150473818'"
            ]
          },
          "execution_count": 35,
          "metadata": {},
          "output_type": "execute_result"
        }
      ],
      "source": [
        "dict = {'Mahin': '09150054577', 'Nahid' : '09150473818', 'Asiyeh' : '09159121619'}\n",
        "dict['Nahid']"
      ]
    },
    {
      "cell_type": "code",
      "execution_count": null,
      "metadata": {
        "id": "Lg80rDbuql9I"
      },
      "outputs": [],
      "source": [
        "dict['Maman'] = '09151371844'"
      ]
    },
    {
      "cell_type": "code",
      "execution_count": null,
      "metadata": {
        "id": "hM3aHe3iql9J",
        "outputId": "21f26ac7-1e98-43c0-83f4-2b3254097526"
      },
      "outputs": [
        {
          "data": {
            "text/plain": [
              "'09151371844'"
            ]
          },
          "execution_count": 37,
          "metadata": {},
          "output_type": "execute_result"
        }
      ],
      "source": [
        "dict['Maman']"
      ]
    },
    {
      "cell_type": "code",
      "execution_count": null,
      "metadata": {
        "id": "Xfz2q-7Vql9J",
        "outputId": "81c80d1a-7e98-4d18-f04a-540d92b6329b"
      },
      "outputs": [
        {
          "name": "stdout",
          "output_type": "stream",
          "text": [
            "Mahin\n",
            "09150054577\n",
            "Nahid\n",
            "09150473818\n",
            "Asiyeh\n",
            "09159121619\n",
            "Maman\n",
            "09151371844\n"
          ]
        }
      ],
      "source": [
        "for name, phonenumber in dict.items():\n",
        "    print(name)\n",
        "    print(phonenumber)"
      ]
    },
    {
      "cell_type": "code",
      "execution_count": null,
      "metadata": {
        "scrolled": true,
        "id": "9FeYiO7Wql9J",
        "outputId": "300aa03a-58ac-41d7-b12c-c2ad40a01e27"
      },
      "outputs": [
        {
          "name": "stdout",
          "output_type": "stream",
          "text": [
            "Mahin bought 4 item(s) at a price of 3.24 each for a total of 12.96\n"
          ]
        }
      ],
      "source": [
        "sale_record = {'price' : 3.24,\n",
        "              'name_items' : 4,\n",
        "              'person' : 'Mahin'}\n",
        "sales_statement = '{} bought {} item(s) at a price of {} each for a total of {}'\n",
        "\n",
        "print(sales_statement.format(sale_record['person'],\n",
        "                            sale_record['name_items'],\n",
        "                            sale_record['price'],\n",
        "                            sale_record['price'] * sale_record['name_items']))"
      ]
    },
    {
      "cell_type": "markdown",
      "metadata": {
        "id": "FmKkoATvql9P"
      },
      "source": [
        "## The python programming language : Dates and Times "
      ]
    },
    {
      "cell_type": "code",
      "execution_count": 3,
      "metadata": {
        "id": "OXmVQAHJql9P"
      },
      "outputs": [],
      "source": [
        "import datetime as dt\n",
        "import time as tm"
      ]
    },
    {
      "cell_type": "code",
      "execution_count": null,
      "metadata": {
        "id": "tuUSZY78ql9Q"
      },
      "outputs": [],
      "source": [
        "tm.time()"
      ]
    },
    {
      "cell_type": "code",
      "execution_count": null,
      "metadata": {
        "id": "ltghWGalql9Q"
      },
      "outputs": [],
      "source": [
        "dtnow = dt.datetime.fromtimestamp(tm.time())\n",
        "dtnow"
      ]
    },
    {
      "cell_type": "code",
      "execution_count": null,
      "metadata": {
        "id": "g9s4QNUVql9R"
      },
      "outputs": [],
      "source": [
        "dtnow.year, dtnow.month, dtnow.day, dtnow.hour, dtnow.minute, dtnow.second"
      ]
    },
    {
      "cell_type": "code",
      "execution_count": null,
      "metadata": {
        "id": "kzGhkIF6ql9R"
      },
      "outputs": [],
      "source": [
        "delta = dt.timedelta(days = 100)\n",
        "delta"
      ]
    },
    {
      "cell_type": "code",
      "execution_count": null,
      "metadata": {
        "id": "EcQiXSz8ql9S"
      },
      "outputs": [],
      "source": [
        "today = dt.date.today()\n",
        "today"
      ]
    },
    {
      "cell_type": "code",
      "execution_count": null,
      "metadata": {
        "id": "swH4IZZmql9S"
      },
      "outputs": [],
      "source": [
        "delay = today - delta\n",
        "delay"
      ]
    },
    {
      "cell_type": "code",
      "execution_count": null,
      "metadata": {
        "id": "RNya78mFql9T"
      },
      "outputs": [],
      "source": [
        "today > delay"
      ]
    },
    {
      "cell_type": "code",
      "execution_count": 11,
      "metadata": {
        "id": "gJcew21Sql9T"
      },
      "outputs": [],
      "source": [
        "class person:\n",
        "    department = 'School of Information'\n",
        "    \n",
        "    def set_name(self, new_name):\n",
        "        self.name = new_name\n",
        "    def set_location(self, new_location):\n",
        "        self.location = new_location"
      ]
    },
    {
      "cell_type": "code",
      "execution_count": null,
      "metadata": {
        "id": "b_ETQ9X_ql9T"
      },
      "outputs": [],
      "source": [
        "store1= [10,0,30,40]\n",
        "store2 = [9,1,0,3,4]\n",
        "cheapest = map(min, store1)\n",
        "cheapest"
      ]
    },
    {
      "cell_type": "code",
      "execution_count": null,
      "metadata": {
        "id": "z_TfQiNtql9U"
      },
      "outputs": [],
      "source": [
        "people = ['Dr. Mahin Vazifehdan', 'Dr. Nahid Attar', 'Prof. Asiyeh Mahin', 'Prof. Somayeh Mahin']\n",
        "\n",
        "def split_title_name(person):\n",
        "    title = person.split()[0]\n",
        "    lastname = person.split()[-1]\n",
        "    return '{} {}'.format(title, lastname)\n",
        "\n",
        "list(map(split_title_name, people))"
      ]
    },
    {
      "cell_type": "code",
      "execution_count": null,
      "metadata": {
        "id": "EISQr0bnql9U"
      },
      "outputs": [],
      "source": [
        "my_function = lambda a, b, c : a + b\n",
        "my_function(2,3,4)"
      ]
    },
    {
      "cell_type": "code",
      "execution_count": null,
      "metadata": {
        "id": "oem6iqVYql9V"
      },
      "outputs": [],
      "source": [
        "people = ['Dr. Mahin Vazifehdan', 'Dr. Nahid Attar', 'Prof. Asiyeh Mahin', 'Prof. Somayeh Mahin']\n",
        "\n",
        "def split_title_name(person):\n",
        "    person.split()[0] + ' ' + person.split()[-1]\n",
        "for person in people:\n",
        "    print(split_title_name(person) == (lambda person:person.split()[0] + ' ' + person.split()[-1]), people)"
      ]
    },
    {
      "cell_type": "code",
      "execution_count": null,
      "metadata": {
        "collapsed": true,
        "id": "d-YUNTeEql9V"
      },
      "outputs": [],
      "source": [
        "my_list = []\n",
        "\n",
        "for numbers in range(0,1000):\n",
        "    if numbers % 2 == 0:\n",
        "        my_list.append(numbers)\n",
        "\n",
        "my_list"
      ]
    },
    {
      "cell_type": "code",
      "execution_count": null,
      "metadata": {
        "collapsed": true,
        "id": "sovNcmXtql9V"
      },
      "outputs": [],
      "source": [
        "my_list = [number for number in range(0,1000) if number % 2 == 0]\n",
        "my_list"
      ]
    },
    {
      "cell_type": "code",
      "execution_count": 18,
      "metadata": {
        "id": "BeqVh5loql9W"
      },
      "outputs": [],
      "source": [
        "def times_tables():\n",
        "    list_1 = []\n",
        "    for i in range(10):\n",
        "        for j in range(10):\n",
        "            list_1.append(i*j)\n",
        "    return list_1"
      ]
    },
    {
      "cell_type": "code",
      "execution_count": null,
      "metadata": {
        "id": "6hN55eHWql9W"
      },
      "outputs": [],
      "source": [
        "times_tables() == [i*j for i in range(10) for j in range(10)]"
      ]
    }
  ],
  "metadata": {
    "kernelspec": {
      "display_name": "Python 3",
      "language": "python",
      "name": "python3"
    },
    "language_info": {
      "codemirror_mode": {
        "name": "ipython",
        "version": 3
      },
      "file_extension": ".py",
      "mimetype": "text/x-python",
      "name": "python",
      "nbconvert_exporter": "python",
      "pygments_lexer": "ipython3",
      "version": "3.8.5"
    },
    "colab": {
      "name": "First_Course_Data_Science_with_Python.ipynb",
      "provenance": [],
      "collapsed_sections": []
    }
  },
  "nbformat": 4,
  "nbformat_minor": 0
}