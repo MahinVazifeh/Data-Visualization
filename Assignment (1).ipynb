{
  "nbformat": 4,
  "nbformat_minor": 0,
  "metadata": {
    "colab": {
      "name": "Assignment.ipynb",
      "provenance": [],
      "collapsed_sections": []
    },
    "kernelspec": {
      "name": "python3",
      "display_name": "Python 3"
    },
    "language_info": {
      "name": "python"
    }
  },
  "cells": [
    {
      "cell_type": "markdown",
      "source": [
        "### Import Data and Libraries"
      ],
      "metadata": {
        "id": "qRPf34sKKDNU"
      }
    },
    {
      "cell_type": "code",
      "execution_count": null,
      "metadata": {
        "id": "jJvTGpIVkx83"
      },
      "outputs": [],
      "source": [
        "import numpy as np\n",
        "import pandas as pd\n",
        "from matplotlib import pyplot as plt"
      ]
    },
    {
      "cell_type": "code",
      "source": [
        "Athlete_data = pd.read_csv('/content/drive/MyDrive/Practice_MF/Datasets/athlete_events.csv')\n",
        "Athlete_data.head(5)"
      ],
      "metadata": {
        "id": "3s97uY8dlUqe"
      },
      "execution_count": null,
      "outputs": []
    },
    {
      "cell_type": "markdown",
      "source": [
        "### Question 1\n",
        "\n"
      ],
      "metadata": {
        "id": "jJiklcuO9iCO"
      }
    },
    {
      "cell_type": "code",
      "source": [
        "Summer_athlete = Athlete_data [ Athlete_data['Season']=='Summer' ] \n",
        "Summer_athlete"
      ],
      "metadata": {
        "id": "rlA6WsHqlvJU"
      },
      "execution_count": null,
      "outputs": []
    },
    {
      "cell_type": "code",
      "source": [
        "Summer_athlete.dropna(subset=['Medal'],inplace= True)"
      ],
      "metadata": {
        "id": "MATqMRtP-s8H"
      },
      "execution_count": null,
      "outputs": []
    },
    {
      "cell_type": "code",
      "source": [
        "Best_Countries_Summer = Summer_athlete.groupby(['NOC'])['Medal'].count().sort_values(ascending=False).reset_index().head(5)"
      ],
      "metadata": {
        "id": "tsj45ALT2GnL"
      },
      "execution_count": null,
      "outputs": []
    },
    {
      "cell_type": "code",
      "source": [
        "Best_Countries_Summer.to_csv('Best_Countries_Winter.csv')"
      ],
      "metadata": {
        "id": "0g5e7wKb3GYz"
      },
      "execution_count": null,
      "outputs": []
    },
    {
      "cell_type": "code",
      "source": [
        "Best_Countries_Summer.head(5)"
      ],
      "metadata": {
        "id": "I3a6Hmxm4zNV"
      },
      "execution_count": null,
      "outputs": []
    },
    {
      "cell_type": "markdown",
      "source": [
        "### Question 2"
      ],
      "metadata": {
        "id": "89IeBg5O-VjU"
      }
    },
    {
      "cell_type": "code",
      "source": [
        "Athlete_data.head(5)"
      ],
      "metadata": {
        "id": "dPTEUUAj-afC"
      },
      "execution_count": null,
      "outputs": []
    },
    {
      "cell_type": "code",
      "source": [
        "Event_data = Athlete_data.dropna(subset = ['Medal','Age','Height','Weight'], axis = 0)\n",
        "Event_data"
      ],
      "metadata": {
        "id": "JAs8I90--ikz"
      },
      "execution_count": null,
      "outputs": []
    },
    {
      "cell_type": "code",
      "source": [
        "Event_data['BMI'] = Event_data['Weight']/Event_data['Height']\n",
        "Event_data"
      ],
      "metadata": {
        "id": "P817HIxMAHNn"
      },
      "execution_count": null,
      "outputs": []
    },
    {
      "cell_type": "code",
      "source": [
        "Event_data.groupby('Event').mean().reset_index()"
      ],
      "metadata": {
        "id": "69Brm-uSEFST"
      },
      "execution_count": null,
      "outputs": []
    },
    {
      "cell_type": "code",
      "source": [
        "selection = ['Event', 'Height', 'Weight', 'BMI']\n",
        "Event_data[selection].to_csv('Event Data.csv')"
      ],
      "metadata": {
        "id": "sUh6m0q7Epgp"
      },
      "execution_count": null,
      "outputs": []
    },
    {
      "cell_type": "markdown",
      "source": [
        "### Question 3"
      ],
      "metadata": {
        "id": "HWzUwWLo7LIZ"
      }
    },
    {
      "cell_type": "code",
      "source": [
        "Summer_Iranianathlete = Athlete_data [ (Athlete_data['Season']=='Summer') & (Athlete_data['Team']=='Iran') &  (Athlete_data['Year']>1952) ] \n",
        "result = Summer_Iranianathlete.groupby(['Year']).count().reset_index()"
      ],
      "metadata": {
        "id": "q_ChjqcQ7MWY"
      },
      "execution_count": null,
      "outputs": []
    },
    {
      "cell_type": "code",
      "source": [
        "ax = result.plot.bar(x='Year', y=['Medal', 'ID'], subplots=True, rot=0)\n",
        "ax[1].legend(loc=2)"
      ],
      "metadata": {
        "id": "7U0tB0bOKv8U"
      },
      "execution_count": null,
      "outputs": []
    },
    {
      "cell_type": "code",
      "source": [
        "plt.show()\n",
        "plt.savefig(\"IDvsMedal.png\")"
      ],
      "metadata": {
        "id": "YxxYNbXUvqCY"
      },
      "execution_count": null,
      "outputs": []
    },
    {
      "cell_type": "markdown",
      "source": [
        "### Question 4"
      ],
      "metadata": {
        "id": "m3nXO5H6tKUJ"
      }
    },
    {
      "cell_type": "code",
      "source": [
        "Athlete_data.head(5)"
      ],
      "metadata": {
        "id": "zw0E35Fl2QNT"
      },
      "execution_count": null,
      "outputs": []
    },
    {
      "cell_type": "code",
      "source": [
        "Women_athlete = Athlete_data [ Athlete_data['Sex']=='F' ]\n",
        "result = Women_athlete.groupby(Women_athlete['NOC']).count().reset_index()\n",
        "Women = result[ result['ID']>=100 ].sort_values('ID', ascending = False)"
      ],
      "metadata": {
        "id": "2TYbbcuJtLfx"
      },
      "execution_count": null,
      "outputs": []
    },
    {
      "cell_type": "code",
      "source": [
        "Men_athlete = Athlete_data [ Athlete_data['Sex']=='M' ]\n",
        "result = Men_athlete.groupby(Men_athlete['NOC']).count().reset_index()\n",
        "Men = result[ result['ID']>=100 ].sort_values('ID', ascending = False)\n",
        "Men"
      ],
      "metadata": {
        "id": "s0f_pLuajRPO"
      },
      "execution_count": null,
      "outputs": []
    },
    {
      "cell_type": "code",
      "source": [
        "IranianWomen = Women[ Women['NOC']=='IRI' ]\n",
        "IranianMen = Men[ Men['NOC']=='IRI' ]\n",
        "print(IranianWomen)\n",
        "print(IranianMen)"
      ],
      "metadata": {
        "id": "5Uy5FcU4rcgG"
      },
      "execution_count": null,
      "outputs": []
    },
    {
      "cell_type": "markdown",
      "source": [
        "### Question 5"
      ],
      "metadata": {
        "id": "Kd6sQyy27prb"
      }
    },
    {
      "cell_type": "code",
      "source": [
        "Athlete_data['Medal'].unique()"
      ],
      "metadata": {
        "id": "AumXQPn1_nPS"
      },
      "execution_count": null,
      "outputs": []
    },
    {
      "cell_type": "code",
      "source": [
        "Athlete_data['Score'] = Athlete_data['Medal'].apply(lambda row: 30 if row=='Gold' else 20 if row=='Silver' else 10 if row=='Bronze' else 1)"
      ],
      "metadata": {
        "id": "AyIWKqWV7sT9"
      },
      "execution_count": null,
      "outputs": []
    },
    {
      "cell_type": "code",
      "source": [
        "Score_country = Athlete_data.groupby(Athlete_data['NOC']).sum().sort_values('Score', ascending=False).reset_index()\n",
        "Top_countries = Score_country.head(10)"
      ],
      "metadata": {
        "id": "d7E8Z2jy_6NX"
      },
      "execution_count": null,
      "outputs": []
    },
    {
      "cell_type": "code",
      "source": [
        "Iran = Score_country[ Score_country['NOC']=='IRI' ]"
      ],
      "metadata": {
        "id": "Dxsp2EgIC0zY"
      },
      "execution_count": null,
      "outputs": []
    },
    {
      "cell_type": "code",
      "source": [
        "Top_countries_vs_Iran = Top_countries.append(Iran)\n",
        "Top_countries_vs_Iran"
      ],
      "metadata": {
        "id": "XwLlw-iIFdTH"
      },
      "execution_count": null,
      "outputs": []
    },
    {
      "cell_type": "code",
      "source": [
        "ax = Top_countries_vs_Iran.plot.bar(x='NOC', y='Score', subplots=True, rot=0)"
      ],
      "metadata": {
        "id": "9h0ynydxI5GM"
      },
      "execution_count": null,
      "outputs": []
    }
  ]
}